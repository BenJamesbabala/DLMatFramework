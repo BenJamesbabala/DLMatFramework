{
 "cells": [
  {
   "cell_type": "markdown",
   "metadata": {},
   "source": [
    "## Playing with HDF5 files"
   ]
  },
  {
   "cell_type": "markdown",
   "metadata": {},
   "source": [
    "### Import necessary libraries"
   ]
  },
  {
   "cell_type": "code",
   "execution_count": 1,
   "metadata": {
    "collapsed": true
   },
   "outputs": [],
   "source": [
    "import h5py\n",
    "import numpy as np"
   ]
  },
  {
   "cell_type": "markdown",
   "metadata": {},
   "source": [
    "### Create a file"
   ]
  },
  {
   "cell_type": "code",
   "execution_count": 2,
   "metadata": {
    "collapsed": false
   },
   "outputs": [],
   "source": [
    "# Create a file and overwrite if already exists.\n",
    "file = h5py.File ('file.h5', 'w')"
   ]
  },
  {
   "cell_type": "markdown",
   "metadata": {},
   "source": [
    "### Create dataset\n",
    "Dataset has the raw data and some description of the data"
   ]
  },
  {
   "cell_type": "code",
   "execution_count": 3,
   "metadata": {
    "collapsed": false
   },
   "outputs": [],
   "source": [
    "# Create a 4x6 integer(Big endian 32-bit) matrix\n",
    "dataset = file.create_dataset(\"/dset\",(4, 6), h5py.h5t.STD_I32BE)\n",
    "\n",
    "# Give some description of the dataset\n",
    "dataset.attrs[\"Features\"] = \"Some features on the root group\""
   ]
  },
  {
   "cell_type": "markdown",
   "metadata": {},
   "source": [
    "### Display some information"
   ]
  },
  {
   "cell_type": "code",
   "execution_count": 4,
   "metadata": {
    "collapsed": false
   },
   "outputs": [
    {
     "name": "stdout",
     "output_type": "stream",
     "text": [
      "('Dataset dataspace is', (4, 6))\n",
      "('Dataset Numpy datatype is', dtype('>i4'))\n",
      "('Dataset name is', u'/dset')\n",
      "('Dataset is a member of the group', <HDF5 group \"/\" (1 members)>)\n",
      "('Dataset was created in the file', <HDF5 file \"file.h5\" (mode r+)>)\n"
     ]
    }
   ],
   "source": [
    "print (\"Dataset dataspace is\", dataset.shape)\n",
    "print (\"Dataset Numpy datatype is\", dataset.dtype)\n",
    "print (\"Dataset name is\", dataset.name)\n",
    "print (\"Dataset is a member of the group\", dataset.parent)\n",
    "print (\"Dataset was created in the file\", dataset.file)"
   ]
  },
  {
   "cell_type": "markdown",
   "metadata": {},
   "source": [
    "### Populate data"
   ]
  },
  {
   "cell_type": "code",
   "execution_count": 5,
   "metadata": {
    "collapsed": false
   },
   "outputs": [
    {
     "name": "stdout",
     "output_type": "stream",
     "text": [
      "[[  1.   2.   3.   4.   5.   6.]\n",
      " [  7.   8.   9.  10.  11.  12.]\n",
      " [ 13.  14.  15.  16.  17.  18.]\n",
      " [ 19.  20.  21.  22.  23.  24.]]\n"
     ]
    }
   ],
   "source": [
    "data = np.zeros((4,6))\n",
    "for i in range(4):\n",
    "    for j in range(6):\n",
    "        data[i][j] = i*6+j+1\n",
    "\n",
    "print(data)"
   ]
  },
  {
   "cell_type": "markdown",
   "metadata": {},
   "source": [
    "### Save data on dataset"
   ]
  },
  {
   "cell_type": "code",
   "execution_count": 6,
   "metadata": {
    "collapsed": true
   },
   "outputs": [],
   "source": [
    "dataset[...] = data"
   ]
  },
  {
   "cell_type": "markdown",
   "metadata": {},
   "source": [
    "### Create another group\n",
    "Imagine goup as directories"
   ]
  },
  {
   "cell_type": "code",
   "execution_count": 7,
   "metadata": {
    "collapsed": false
   },
   "outputs": [],
   "source": [
    "group = file.create_group(\"Labels\")"
   ]
  },
  {
   "cell_type": "markdown",
   "metadata": {},
   "source": [
    "### Create a dataset on a group"
   ]
  },
  {
   "cell_type": "code",
   "execution_count": 8,
   "metadata": {
    "collapsed": false
   },
   "outputs": [
    {
     "name": "stdout",
     "output_type": "stream",
     "text": [
      "[[ 0.  0.  1.]\n",
      " [ 0.  1.  0.]]\n"
     ]
    }
   ],
   "source": [
    "# Create a new dataset on group\n",
    "dataset2 = group.create_dataset(\"Y\", (2,3), dtype = h5py.h5t.STD_I16LE)\n",
    "\n",
    "## Create a numpy array\n",
    "Y = np.zeros((2,3))\n",
    "Y[0][0] = 0\n",
    "Y[0][1] = 0\n",
    "Y[0][2] = 1\n",
    "\n",
    "Y[1][0] = 0\n",
    "Y[1][1] = 1\n",
    "Y[1][2] = 0\n",
    "\n",
    "print(Y)\n",
    "\n",
    "# Put data on new dataset\n",
    "dataset2[...] = Y"
   ]
  },
  {
   "cell_type": "markdown",
   "metadata": {},
   "source": [
    "### Close file and save data"
   ]
  },
  {
   "cell_type": "code",
   "execution_count": 9,
   "metadata": {
    "collapsed": false
   },
   "outputs": [],
   "source": [
    "file.flush()\n",
    "file.close()"
   ]
  },
  {
   "cell_type": "markdown",
   "metadata": {},
   "source": [
    "### Inspecting HDF5 file from the command line"
   ]
  },
  {
   "cell_type": "code",
   "execution_count": 10,
   "metadata": {
    "collapsed": false
   },
   "outputs": [
    {
     "name": "stdout",
     "output_type": "stream",
     "text": [
      "HDF5 \"file.h5\" {\r\n",
      "GROUP \"/\" {\r\n",
      "   GROUP \"Labels\" {\r\n",
      "      DATASET \"Y\" {\r\n",
      "         DATATYPE  H5T_STD_I16LE\r\n",
      "         DATASPACE  SIMPLE { ( 2, 3 ) / ( 2, 3 ) }\r\n",
      "         DATA {\r\n",
      "         (0,0): 0, 0, 1,\r\n",
      "         (1,0): 0, 1, 0\r\n",
      "         }\r\n",
      "      }\r\n",
      "   }\r\n",
      "   DATASET \"dset\" {\r\n",
      "      DATATYPE  H5T_STD_I32BE\r\n",
      "      DATASPACE  SIMPLE { ( 4, 6 ) / ( 4, 6 ) }\r\n",
      "      DATA {\r\n",
      "      (0,0): 1, 2, 3, 4, 5, 6,\r\n",
      "      (1,0): 7, 8, 9, 10, 11, 12,\r\n",
      "      (2,0): 13, 14, 15, 16, 17, 18,\r\n",
      "      (3,0): 19, 20, 21, 22, 23, 24\r\n",
      "      }\r\n",
      "      ATTRIBUTE \"Features\" {\r\n",
      "         DATATYPE  H5T_STRING {\r\n",
      "            STRSIZE H5T_VARIABLE;\r\n",
      "            STRPAD H5T_STR_NULLTERM;\r\n",
      "            CSET H5T_CSET_ASCII;\r\n",
      "            CTYPE H5T_C_S1;\r\n",
      "         }\r\n",
      "         DATASPACE  SCALAR\r\n",
      "         DATA {\r\n",
      "         (0): \"Some features on the root group\"\r\n",
      "         }\r\n",
      "      }\r\n",
      "   }\r\n",
      "}\r\n",
      "}\r\n"
     ]
    }
   ],
   "source": [
    "!h5dump file.h5"
   ]
  },
  {
   "cell_type": "markdown",
   "metadata": {},
   "source": [
    "## Open a file\n",
    "This file has been generated from matlab with the functions h5create and h5write with 2 matrices X[2x3] and Y[6x1]"
   ]
  },
  {
   "cell_type": "code",
   "execution_count": 17,
   "metadata": {
    "collapsed": false
   },
   "outputs": [
    {
     "name": "stdout",
     "output_type": "stream",
     "text": [
      "HDF5 \"for_leo.h5\" {\r\n",
      "GROUP \"/\" {\r\n",
      "   DATASET \"X\" {\r\n",
      "      DATATYPE  H5T_IEEE_F64LE\r\n",
      "      DATASPACE  SIMPLE { ( 3, 2 ) / ( 3, 2 ) }\r\n",
      "      DATA {\r\n",
      "      (0,0): 1, 4,\r\n",
      "      (1,0): 2, 5,\r\n",
      "      (2,0): 3, 6\r\n",
      "      }\r\n",
      "   }\r\n",
      "   DATASET \"Y\" {\r\n",
      "      DATATYPE  H5T_IEEE_F64LE\r\n",
      "      DATASPACE  SIMPLE { ( 1, 4 ) / ( 1, 4 ) }\r\n",
      "      DATA {\r\n",
      "      (0,0): 5, 6, 7, 8\r\n",
      "      }\r\n",
      "   }\r\n",
      "}\r\n",
      "}\r\n"
     ]
    }
   ],
   "source": [
    "!h5dump for_leo.h5"
   ]
  },
  {
   "cell_type": "code",
   "execution_count": 11,
   "metadata": {
    "collapsed": true
   },
   "outputs": [],
   "source": [
    "file = h5py.File ('for_leo.h5', 'r+')"
   ]
  },
  {
   "cell_type": "markdown",
   "metadata": {},
   "source": [
    "### Open a dataset on the group X"
   ]
  },
  {
   "cell_type": "code",
   "execution_count": 16,
   "metadata": {
    "collapsed": true
   },
   "outputs": [],
   "source": [
    "dataset = file['/X']"
   ]
  },
  {
   "cell_type": "markdown",
   "metadata": {},
   "source": [
    "### Read dataset"
   ]
  },
  {
   "cell_type": "code",
   "execution_count": 20,
   "metadata": {
    "collapsed": false
   },
   "outputs": [
    {
     "name": "stdout",
     "output_type": "stream",
     "text": [
      "<type 'numpy.ndarray'>\n",
      "[[ 1.  4.]\n",
      " [ 2.  5.]\n",
      " [ 3.  6.]]\n",
      "Transposing to keep same format\n",
      "[[ 1.  2.  3.]\n",
      " [ 4.  5.  6.]]\n"
     ]
    }
   ],
   "source": [
    "X = dataset[...]\n",
    "print(type(X))\n",
    "print(X)\n",
    "X_t = X.transpose()\n",
    "print('Transposing to keep same format')\n",
    "print(X_t)"
   ]
  }
 ],
 "metadata": {
  "anaconda-cloud": {},
  "kernelspec": {
   "display_name": "Python [conda root]",
   "language": "python",
   "name": "conda-root-py"
  },
  "language_info": {
   "codemirror_mode": {
    "name": "ipython",
    "version": 2
   },
   "file_extension": ".py",
   "mimetype": "text/x-python",
   "name": "python",
   "nbconvert_exporter": "python",
   "pygments_lexer": "ipython2",
   "version": "2.7.12"
  }
 },
 "nbformat": 4,
 "nbformat_minor": 1
}
