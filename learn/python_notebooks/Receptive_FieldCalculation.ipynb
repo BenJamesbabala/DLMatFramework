{
 "cells": [
  {
   "cell_type": "markdown",
   "metadata": {},
   "source": [
    "## Calculating Receptive field"
   ]
  },
  {
   "cell_type": "code",
   "execution_count": 1,
   "metadata": {
    "collapsed": false
   },
   "outputs": [],
   "source": [
    "import math\n",
    "\n",
    "# Play here...\n",
    "# Define convnet as list of lists (n,j,r)\n",
    "convnet =    [[11,4,0],[3,2,0],[5,1,2],[3,2,0],[3,1,1],[3,1,1],[3,1,1],[3,2,0],[6,1,0], [1, 1, 0]]\n",
    "#convnet =    [[5,1,0],[3,1,1],[3,1,1],[3,2,0],[3,1,1],[3,1,1],[3,1,1],[3,2,0],[6,1,0], [1, 1, 0]]\n",
    "\n",
    "# Give list of layer names\n",
    "layer_names = ['conv1','pool1','conv2','pool2','conv3','conv4','conv5','pool5','fc6-conv', 'fc7-conv']\n",
    "#layer_names = ['conv1','conv2','conv3','pool1','conv3','conv4','conv5','pool5','fc6-conv', 'fc7-conv']\n",
    "\n",
    "# Image size is 227x227\n",
    "imsize = 227\n",
    "\n",
    "# Empty list that will get some information appended\n",
    "layerInfos = []"
   ]
  },
  {
   "cell_type": "code",
   "execution_count": 2,
   "metadata": {
    "collapsed": true
   },
   "outputs": [],
   "source": [
    "def outFromIn(conv, layerIn):\n",
    "    n_in = layerIn[0]\n",
    "    j_in = layerIn[1]\n",
    "    r_in = layerIn[2]\n",
    "    start_in = layerIn[3]\n",
    "    \n",
    "    # k: Kernel size, s: stride, p:pad\n",
    "    k = conv[0]\n",
    "    s = conv[1]\n",
    "    p = conv[2]    \n",
    "\n",
    "    n_out = math.floor((n_in - k + 2*p)/s) + 1\n",
    "    actualP = (n_out-1)*s - n_in + k \n",
    "    pR = math.ceil(actualP/2)\n",
    "    pL = math.floor(actualP/2)\n",
    "\n",
    "    j_out = j_in * s\n",
    "    r_out = r_in + (k - 1)*j_in\n",
    "    start_out = start_in + ((k-1)/2 - pL)*j_in\n",
    "    return n_out, j_out, r_out, start_out"
   ]
  },
  {
   "cell_type": "code",
   "execution_count": 3,
   "metadata": {
    "collapsed": true
   },
   "outputs": [],
   "source": [
    "# Print layer information\n",
    "def printLayer(layer, layer_name):\n",
    "    print(layer_name + \":\")\n",
    "    print(\"\\t n features: %s \\n \\t jump: %s \\n \\t receptive size: %s \\t start: %s \" % (layer[0], layer[1], layer[2], layer[3]))"
   ]
  },
  {
   "cell_type": "code",
   "execution_count": 4,
   "metadata": {
    "collapsed": false
   },
   "outputs": [
    {
     "name": "stdout",
     "output_type": "stream",
     "text": [
      "-------Net summary------\n",
      "input image:\n",
      "\t n features: 227 \n",
      " \t jump: 1 \n",
      " \t receptive size: 1 \t start: 0.5 \n",
      "conv1:\n",
      "\t n features: 55.0 \n",
      " \t jump: 4 \n",
      " \t receptive size: 11 \t start: 5.5 \n",
      "pool1:\n",
      "\t n features: 27.0 \n",
      " \t jump: 8 \n",
      " \t receptive size: 19 \t start: 9.5 \n",
      "conv2:\n",
      "\t n features: 27.0 \n",
      " \t jump: 8 \n",
      " \t receptive size: 51 \t start: 9.5 \n",
      "pool2:\n",
      "\t n features: 13.0 \n",
      " \t jump: 16 \n",
      " \t receptive size: 67 \t start: 17.5 \n",
      "conv3:\n",
      "\t n features: 13.0 \n",
      " \t jump: 16 \n",
      " \t receptive size: 99 \t start: 17.5 \n",
      "conv4:\n",
      "\t n features: 13.0 \n",
      " \t jump: 16 \n",
      " \t receptive size: 131 \t start: 17.5 \n",
      "conv5:\n",
      "\t n features: 13.0 \n",
      " \t jump: 16 \n",
      " \t receptive size: 163 \t start: 17.5 \n",
      "pool5:\n",
      "\t n features: 6.0 \n",
      " \t jump: 32 \n",
      " \t receptive size: 195 \t start: 33.5 \n",
      "fc6-conv:\n",
      "\t n features: 1.0 \n",
      " \t jump: 32 \n",
      " \t receptive size: 355 \t start: 97.5 \n",
      "fc7-conv:\n",
      "\t n features: 1.0 \n",
      " \t jump: 32 \n",
      " \t receptive size: 355 \t start: 97.5 \n"
     ]
    }
   ],
   "source": [
    "if __name__ == '__main__':\n",
    "    #first layer is the data layer (image) with n_0 = image size; j_0 = 1; r_0 = 1; and start_0 = 0.5\n",
    "    print (\"-------Net summary------\")\n",
    "    currentLayer = [imsize, 1, 1, 0.5]\n",
    "    printLayer(currentLayer, \"input image\")\n",
    "    \n",
    "    # Print information of each layer\n",
    "    for i in range(len(convnet)):\n",
    "        currentLayer = outFromIn(convnet[i], currentLayer)\n",
    "        layerInfos.append(currentLayer)\n",
    "        printLayer(currentLayer, layer_names[i])\n",
    "    \n",
    "    #print (\"------------------------\")\n",
    "    #layer_name = raw_input (\"Layer name where the feature in: \")\n",
    "    #layer_idx = layer_names.index(layer_name)\n",
    "    #idx_x = int(raw_input (\"index of the feature in x dimension (from 0)\"))\n",
    "    #idx_y = int(raw_input (\"index of the feature in y dimension (from 0)\"))\n",
    "\n",
    "    #n = layerInfos[layer_idx][0]\n",
    "    #j = layerInfos[layer_idx][1]\n",
    "    #r = layerInfos[layer_idx][2]\n",
    "    #start = layerInfos[layer_idx][3]\n",
    "    #assert(idx_x < n)\n",
    "    #assert(idx_y < n)\n",
    "\n",
    "    #print (\"receptive field: (%s, %s)\" % (r, r))\n",
    "    #print (\"center: (%s, %s)\" % (start+idx_x*j, start+idx_y*j))"
   ]
  },
  {
   "cell_type": "code",
   "execution_count": null,
   "metadata": {
    "collapsed": true
   },
   "outputs": [],
   "source": []
  }
 ],
 "metadata": {
  "anaconda-cloud": {},
  "kernelspec": {
   "display_name": "Python [default]",
   "language": "python",
   "name": "python2"
  },
  "language_info": {
   "codemirror_mode": {
    "name": "ipython",
    "version": 2
   },
   "file_extension": ".py",
   "mimetype": "text/x-python",
   "name": "python",
   "nbconvert_exporter": "python",
   "pygments_lexer": "ipython2",
   "version": "2.7.12"
  }
 },
 "nbformat": 4,
 "nbformat_minor": 1
}
