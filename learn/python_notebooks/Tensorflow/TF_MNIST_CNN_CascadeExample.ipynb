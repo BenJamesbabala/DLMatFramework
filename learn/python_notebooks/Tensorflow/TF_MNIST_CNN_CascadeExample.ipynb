{
 "cells": [
  {
   "cell_type": "markdown",
   "metadata": {},
   "source": [
    "## Cascade experiment\n",
    "Idea:\n",
    "Substitute first layer with cascade of convs.\n",
    "Example\n",
    "CONV1(5x5)-->Relu = CONV(3x3)-->CONV(3x3)-->Relu"
   ]
  },
  {
   "cell_type": "markdown",
   "metadata": {},
   "source": [
    "### Get MNIST data\n",
    "The MNIST data is split into three parts: 55,000 data points of training data (mnist.train), 10,000 points of test data (mnist.test), and 5,000 points of validation data (mnist.validation)."
   ]
  },
  {
   "cell_type": "code",
   "execution_count": 1,
   "metadata": {
    "collapsed": false
   },
   "outputs": [
    {
     "name": "stdout",
     "output_type": "stream",
     "text": [
      "Extracting MNIST_data/train-images-idx3-ubyte.gz\n",
      "Extracting MNIST_data/train-labels-idx1-ubyte.gz\n",
      "Extracting MNIST_data/t10k-images-idx3-ubyte.gz\n",
      "Extracting MNIST_data/t10k-labels-idx1-ubyte.gz\n"
     ]
    }
   ],
   "source": [
    "from tensorflow.examples.tutorials.mnist import input_data\n",
    "mnist = input_data.read_data_sets(\"MNIST_data/\", one_hot=True)"
   ]
  },
  {
   "cell_type": "markdown",
   "metadata": {},
   "source": [
    "### MNIST training data\n",
    "each sample on the MNIST dataset consist on a 784 feature vector encoding a 28x28 grayscale image. "
   ]
  },
  {
   "cell_type": "code",
   "execution_count": 2,
   "metadata": {
    "collapsed": false
   },
   "outputs": [
    {
     "data": {
      "image/png": "[encoded data removed]",
      "text/plain": [
       "<matplotlib.figure.Figure at 0x7efce7b5b8d0>"
      ]
     },
     "metadata": {},
     "output_type": "display_data"
    }
   ],
   "source": [
    "import matplotlib.pyplot as plt\n",
    "imgDigit = mnist.train.images[1]\n",
    "plt.imshow(imgDigit.reshape([28,28]))\n",
    "plt.show()"
   ]
  },
  {
   "cell_type": "markdown",
   "metadata": {},
   "source": [
    "### Importing libraries"
   ]
  },
  {
   "cell_type": "code",
   "execution_count": 3,
   "metadata": {
    "collapsed": true
   },
   "outputs": [],
   "source": [
    "import tensorflow as tf\n",
    "import numpy as np\n",
    "\n",
    "# Force to see just the first GPU\n",
    "# https://devblogs.nvidia.com/parallelforall/cuda-pro-tip-control-gpu-visibility-cuda_visible_devices/\n",
    "import os\n",
    "os.environ[\"CUDA_VISIBLE_DEVICES\"]=\"0\""
   ]
  },
  {
   "cell_type": "markdown",
   "metadata": {},
   "source": [
    "### Create functions for defining conv layers\n",
    "One should generally initialize weights with a small amount of noise for symmetry breaking, and to prevent 0 gradients. Since we're using ReLU neurons, it is also good practice to initialize them with a slightly positive initial bias to avoid \"dead neurons\". Instead of doing this repeatedly while we build the model, let's create two handy functions to do it for us."
   ]
  },
  {
   "cell_type": "code",
   "execution_count": 4,
   "metadata": {
    "collapsed": true
   },
   "outputs": [],
   "source": [
    "def conv2d_no_relu(x, k_h, k_w, channels_in, channels_out, name=\"conv\"):\n",
    "    with tf.name_scope(name):\n",
    "        # Define weights\n",
    "        w = tf.Variable(tf.truncated_normal([k_h,k_w, channels_in, channels_out], stddev=0.1), name=\"weights\")\n",
    "        b = tf.Variable(tf.constant(0.1, shape=[channels_out]), name=\"bias\")    \n",
    "        # Convolution\n",
    "        conv = tf.nn.conv2d(x, w, strides=[1, 1, 1, 1], padding='SAME')    \n",
    "        \n",
    "        # Add summaries for helping debug\n",
    "        tf.summary.histogram(\"weights\", w)\n",
    "        tf.summary.histogram(\"bias\", b)\n",
    "        tf.summary.histogram(\"activation\", conv)\n",
    "        return conv\n",
    "    \n",
    "def conv2d(x, k_h, k_w, channels_in, channels_out, name=\"conv\"):\n",
    "    with tf.name_scope(name):\n",
    "        # Define weights\n",
    "        w = tf.Variable(tf.truncated_normal([k_h,k_w, channels_in, channels_out], stddev=0.1), name=\"weights\")\n",
    "        b = tf.Variable(tf.constant(0.1, shape=[channels_out]), name=\"bias\")    \n",
    "        # Convolution\n",
    "        conv = tf.nn.conv2d(x, w, strides=[1, 1, 1, 1], padding='SAME')    \n",
    "        # Relu\n",
    "        activation = tf.nn.relu(conv + b)\n",
    "        # Add summaries for helping debug\n",
    "        tf.summary.histogram(\"weights\", w)\n",
    "        tf.summary.histogram(\"bias\", b)\n",
    "        tf.summary.histogram(\"activation\", activation)\n",
    "        \n",
    "        # Display trained weights as images on tensorboard\n",
    "        # to tf.image_summary format [batch_size, height, width, channels]\n",
    "        #w_t = tf.transpose (w, [3, 0, 1, 2])\n",
    "        # this will display random 3 filters from the 64 in conv1\n",
    "        #tf.summary.image(name+'/filters', w_t[:,:,:,0], max_outputs=3)        \n",
    "\n",
    "        return activation\n",
    "\n",
    "def max_pool(x, k_h, k_w, S, name=\"maxpool\"):\n",
    "    with tf.name_scope(name):\n",
    "        return tf.nn.max_pool(x, ksize=[1, k_h, k_w, 1],strides=[1, S, S, 1], padding='SAME')\n",
    "\n",
    "def fc_layer(x, channels_in, channels_out, name=\"fc\"):\n",
    "    with tf.name_scope(name):\n",
    "        w = tf.Variable(tf.truncated_normal([channels_in, channels_out], stddev=0.1), name=\"weights\")\n",
    "        b = tf.Variable(tf.constant(0.1, shape=[channels_out]), name=\"bias\")    \n",
    "        activation = tf.nn.relu(tf.matmul(x, w) + b)\n",
    "        # Add summaries for helping debug\n",
    "        tf.summary.histogram(\"weights\", w)\n",
    "        tf.summary.histogram(\"bias\", b)\n",
    "        tf.summary.histogram(\"activation\", activation)\n",
    "        return activation"
   ]
  },
  {
   "cell_type": "markdown",
   "metadata": {},
   "source": [
    "### Creating our CNN model"
   ]
  },
  {
   "cell_type": "markdown",
   "metadata": {},
   "source": [
    "#### Prepare input"
   ]
  },
  {
   "cell_type": "code",
   "execution_count": 5,
   "metadata": {
    "collapsed": false
   },
   "outputs": [],
   "source": [
    "# Create placeholders (I/O for our model/graph)\n",
    "x = tf.placeholder(tf.float32, shape=[None, 784], name=\"x\")\n",
    "y = tf.placeholder(tf.float32, shape=[None, 10], name=\"y\")\n",
    "\n",
    "# Convert the feature vector to a (-1)x28x28x1 image\n",
    "# The -1 has the same effect as the \"None\" value, and will\n",
    "# be used to inform a variable batch size\n",
    "x_image = tf.reshape(x, [-1,28,28,1])"
   ]
  },
  {
   "cell_type": "markdown",
   "metadata": {},
   "source": [
    "#### Original network"
   ]
  },
  {
   "cell_type": "code",
   "execution_count": null,
   "metadata": {
    "collapsed": true
   },
   "outputs": [],
   "source": [
    "# Create network\n",
    "conv1 = conv2d(x_image, 5, 5, 1, 16,\"conv1\")\n",
    "\n",
    "pool1 = max_pool(conv1, 2, 2, 2, \"pool1\")\n",
    "conv2 = conv2d(pool1, 3, 3, 16, 32, \"conv2\")\n",
    "pool2 = max_pool(conv2, 2, 2, 2, \"pool2\")\n",
    "# Needs calculation... (-1 means any batch size)\n",
    "flattened = tf.reshape(pool2, [-1, 7*7*32])\n",
    "fc1 = fc_layer(flattened, 7*7*32, 1024, \"fc1\")\n",
    "# Add dropout to the fully connected layer\n",
    "fc1_drop = tf.nn.dropout(fc1, 0.5)\n",
    "scores = fc_layer(fc1_drop, 1024, 10, \"fc2\")"
   ]
  },
  {
   "cell_type": "markdown",
   "metadata": {},
   "source": [
    "#### Cascading version no RELU in between"
   ]
  },
  {
   "cell_type": "code",
   "execution_count": null,
   "metadata": {
    "collapsed": false
   },
   "outputs": [],
   "source": [
    "# Create network\n",
    "#conv1 = conv2d(x_image, 5, 5, 1, 16,\"conv1\") #25x16=400 Weights\n",
    "# 9x32+9x16=432\n",
    "conv1_1 = conv2d_no_relu(x_image, 3, 3, 1, 32,\"conv1_1\")\n",
    "conv1_2 = conv2d(conv1_1, 3, 3, 32, 16,\"conv1_2\")\n",
    "\n",
    "pool1 = max_pool(conv1_2, 2, 2, 2, \"pool1\")\n",
    "conv2 = conv2d(pool1, 3, 3, 16, 32, \"conv2\")\n",
    "pool2 = max_pool(conv2, 2, 2, 2, \"pool2\")\n",
    "# Needs calculation... (-1 means any batch size)\n",
    "flattened = tf.reshape(pool2, [-1, 7*7*32])\n",
    "fc1 = fc_layer(flattened, 7*7*32, 1024, \"fc1\")\n",
    "# Add dropout to the fully connected layer\n",
    "fc1_drop = tf.nn.dropout(fc1, 0.5)\n",
    "scores = fc_layer(fc1_drop, 1024, 10, \"fc2\")"
   ]
  },
  {
   "cell_type": "markdown",
   "metadata": {},
   "source": [
    "#### Cascading version no RELU same filter-size"
   ]
  },
  {
   "cell_type": "code",
   "execution_count": 6,
   "metadata": {
    "collapsed": true
   },
   "outputs": [],
   "source": [
    "# Create network\n",
    "#conv1 = conv2d(x_image, 5, 5, 1, 16,\"conv1\") #25x16=400 Weights\n",
    "# 9x32+9x16=432\n",
    "conv1_1 = conv2d_no_relu(x_image, 3, 3, 1, 16,\"conv1_1\")\n",
    "conv1_2 = conv2d(conv1_1, 3, 3, 16, 16,\"conv1_2\")\n",
    "\n",
    "pool1 = max_pool(conv1_2, 2, 2, 2, \"pool1\")\n",
    "conv2 = conv2d(pool1, 3, 3, 16, 32, \"conv2\")\n",
    "pool2 = max_pool(conv2, 2, 2, 2, \"pool2\")\n",
    "# Needs calculation... (-1 means any batch size)\n",
    "flattened = tf.reshape(pool2, [-1, 7*7*32])\n",
    "fc1 = fc_layer(flattened, 7*7*32, 1024, \"fc1\")\n",
    "# Add dropout to the fully connected layer\n",
    "fc1_drop = tf.nn.dropout(fc1, 0.5)\n",
    "scores = fc_layer(fc1_drop, 1024, 10, \"fc2\")"
   ]
  },
  {
   "cell_type": "markdown",
   "metadata": {},
   "source": [
    "#### Cascading version with RELU in between"
   ]
  },
  {
   "cell_type": "code",
   "execution_count": null,
   "metadata": {
    "collapsed": true
   },
   "outputs": [],
   "source": [
    "# Create network\n",
    "#conv1 = conv2d(x_image, 5, 5, 1, 16,\"conv1\") #25x16=400 Weights\n",
    "# 9x32+9x16=432\n",
    "conv1_1 = conv2d(x_image, 3, 3, 1, 32,\"conv1_1\")\n",
    "conv1_2 = conv2d(conv1_1, 3, 3, 32, 16,\"conv1_2\")\n",
    "\n",
    "pool1 = max_pool(conv1_2, 2, 2, 2, \"pool1\")\n",
    "conv2 = conv2d(pool1, 3, 3, 16, 32, \"conv2\")\n",
    "pool2 = max_pool(conv2, 2, 2, 2, \"pool2\")\n",
    "# Needs calculation... (-1 means any batch size)\n",
    "flattened = tf.reshape(pool2, [-1, 7*7*32])\n",
    "fc1 = fc_layer(flattened, 7*7*32, 1024, \"fc1\")\n",
    "# Add dropout to the fully connected layer\n",
    "fc1_drop = tf.nn.dropout(fc1, 0.5)\n",
    "scores = fc_layer(fc1_drop, 1024, 10, \"fc2\")"
   ]
  },
  {
   "cell_type": "markdown",
   "metadata": {},
   "source": [
    "### Define a loss function and how to optimize it"
   ]
  },
  {
   "cell_type": "code",
   "execution_count": 7,
   "metadata": {
    "collapsed": false
   },
   "outputs": [
    {
     "data": {
      "text/plain": [
       "<tf.Tensor 'input:0' shape=() dtype=string>"
      ]
     },
     "execution_count": 7,
     "metadata": {},
     "output_type": "execute_result"
    }
   ],
   "source": [
    "# Multiclass cross-entropy\n",
    "with tf.name_scope(\"cross_entropy\"):\n",
    "    cross_entropy = tf.reduce_mean(tf.nn.softmax_cross_entropy_with_logits(logits=scores, labels=y))\n",
    "\n",
    "# Solver configuration\n",
    "with tf.name_scope(\"Solver\"):\n",
    "    train_step = tf.train.AdamOptimizer(1e-4).minimize(cross_entropy)\n",
    "\n",
    "with tf.name_scope(\"Accuracy\"):\n",
    "    correct_prediction = tf.equal(tf.argmax(scores,1), tf.argmax(y,1))\n",
    "    accuracy = tf.reduce_mean(tf.cast(correct_prediction, tf.float32))\n",
    "\n",
    "# Add summary for cross_entropy loss, accuracy and the image\n",
    "tf.summary.scalar(\"cross_entropy\", cross_entropy)\n",
    "tf.summary.scalar(\"accuracy\", accuracy)\n",
    "tf.summary.image(\"input\", x_image, 3)"
   ]
  },
  {
   "cell_type": "markdown",
   "metadata": {},
   "source": [
    "### Build graph\n",
    "Now we will initialize our variables, and create a session."
   ]
  },
  {
   "cell_type": "code",
   "execution_count": 8,
   "metadata": {
    "collapsed": false
   },
   "outputs": [],
   "source": [
    "init = tf.global_variables_initializer()\n",
    "\n",
    "# Avoid allocating the whole memory\n",
    "gpu_options = tf.GPUOptions(per_process_gpu_memory_fraction=0.333)\n",
    "sess = tf.Session(config=tf.ConfigProto(gpu_options=gpu_options))\n",
    "\n",
    "#sess = tf.Session()\n",
    "sess.run(init)\n",
    "\n",
    "merged_summary = tf.summary.merge_all()\n",
    "writer = tf.summary.FileWriter(\"/tmp/mnist_demo/1\")\n",
    "writer.add_graph(sess.graph)\n"
   ]
  },
  {
   "cell_type": "markdown",
   "metadata": {},
   "source": [
    "### Train graph (model/hypothesis)"
   ]
  },
  {
   "cell_type": "code",
   "execution_count": 9,
   "metadata": {
    "collapsed": false
   },
   "outputs": [
    {
     "name": "stdout",
     "output_type": "stream",
     "text": [
      "step 0, training accuracy 0.16\n",
      "step 100, training accuracy 0.1\n",
      "step 200, training accuracy 0.26\n",
      "step 300, training accuracy 0.4\n",
      "step 400, training accuracy 0.64\n",
      "step 500, training accuracy 0.8\n",
      "step 600, training accuracy 0.9\n",
      "step 700, training accuracy 0.98\n",
      "step 800, training accuracy 0.86\n",
      "step 900, training accuracy 1\n",
      "step 1000, training accuracy 0.94\n",
      "step 1100, training accuracy 0.98\n",
      "step 1200, training accuracy 0.94\n",
      "step 1300, training accuracy 0.96\n",
      "step 1400, training accuracy 0.98\n",
      "step 1500, training accuracy 0.96\n",
      "step 1600, training accuracy 0.98\n",
      "step 1700, training accuracy 0.98\n",
      "step 1800, training accuracy 0.9\n",
      "step 1900, training accuracy 0.96\n"
     ]
    }
   ],
   "source": [
    "for i in range(2000):\n",
    "    # Get batch of 50 images\n",
    "    batch = mnist.train.next_batch(50)\n",
    "    \n",
    "    # Dump summary\n",
    "    if i % 5 == 0:\n",
    "        s = sess.run(merged_summary, feed_dict={x:batch[0], y: batch[1]})\n",
    "        writer.add_summary(s,i)    \n",
    "\n",
    "    # Print accuracy\n",
    "    # Print each 100 epochs\n",
    "    if i%100 == 0:\n",
    "        # Calculate train accuracy\n",
    "        train_accuracy = accuracy.eval(session=sess, feed_dict={x:batch[0], y: batch[1]})\n",
    "        print(\"step %d, training accuracy %g\"%(i, train_accuracy))\n",
    "                \n",
    "    \n",
    "    # Train actually here\n",
    "    #train_step.run(session=sess, feed_dict={x: batch[0], y_: batch[1], keep_prob: 0.5})\n",
    "    sess.run(train_step, feed_dict={x: batch[0], y: batch[1]})"
   ]
  },
  {
   "cell_type": "markdown",
   "metadata": {},
   "source": [
    "### Evaluating hypothesis\n",
    "To display information on tensorboard use\n",
    "```bash\n",
    "tensorboard --logdir /tmp/mnist_demo/1\n",
    "```"
   ]
  },
  {
   "cell_type": "code",
   "execution_count": 10,
   "metadata": {
    "collapsed": false
   },
   "outputs": [
    {
     "name": "stdout",
     "output_type": "stream",
     "text": [
      "Test Accuracy: 0.9608\n"
     ]
    }
   ],
   "source": [
    "print(\"Test Accuracy:\", sess.run(accuracy, feed_dict={x: mnist.test.images, y: mnist.test.labels})) \n"
   ]
  },
  {
   "cell_type": "markdown",
   "metadata": {},
   "source": [
    "### Conclusion\n",
    "On the MNIST dataset the only thing that we can observe is that cascading layers make the convergence slower.\n",
    "#### TODO:\n",
    "Try on Resnet-18 with our dataset"
   ]
  }
 ],
 "metadata": {
  "anaconda-cloud": {},
  "kernelspec": {
   "display_name": "Python 3",
   "language": "python",
   "name": "python3"
  },
  "language_info": {
   "codemirror_mode": {
    "name": "ipython",
    "version": 3
   },
   "file_extension": ".py",
   "mimetype": "text/x-python",
   "name": "python",
   "nbconvert_exporter": "python",
   "pygments_lexer": "ipython3",
   "version": "3.6.0"
  }
 },
 "nbformat": 4,
 "nbformat_minor": 1
}
