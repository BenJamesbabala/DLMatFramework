{
 "cells": [
  {
   "cell_type": "markdown",
   "metadata": {},
   "source": [
    "## TCP/IP Client example for Unity\n",
    "\n",
    "References:\n",
    "\n",
    "* https://pymotw.com/2/socket/tcp.html\n",
    "* https://wiki.python.org/moin/TcpCommunication\n",
    "* http://stackoverflow.com/questions/7749341/very-basic-python-client-socket-example\n",
    "* http://dabeaz.blogspot.co.uk/2010/01/few-useful-bytearray-tricks.html\n",
    "* http://stackoverflow.com/questions/3896286/image-library-for-python-3\n",
    "* http://stackoverflow.com/questions/26649716/how-to-show-pil-image-in-ipython-notebook"
   ]
  },
  {
   "cell_type": "code",
   "execution_count": null,
   "metadata": {
    "collapsed": false
   },
   "outputs": [],
   "source": [
    "# Import needed libraries\n",
    "import socket\n",
    "import sys\n",
    "import io\n",
    "from PIL import Image\n",
    "import numpy as np\n",
    "from matplotlib.pyplot import imshow\n",
    "%matplotlib inline\n",
    "\n",
    "TCP_IP = '127.0.0.1'\n",
    "TCP_PORT = 50007\n",
    "BUFFER_SIZE = 4096"
   ]
  },
  {
   "cell_type": "markdown",
   "metadata": {},
   "source": [
    "### Connect to Unity server and ask for a Image"
   ]
  },
  {
   "cell_type": "code",
   "execution_count": null,
   "metadata": {
    "collapsed": false
   },
   "outputs": [],
   "source": [
    "# Connect to server\n",
    "s = socket.socket(socket.AF_INET, socket.SOCK_STREAM)\n",
    "s.connect((TCP_IP, TCP_PORT))\n",
    "\n",
    "# Send server command to ask for a image\n",
    "s.send(\"imagem\".encode())"
   ]
  },
  {
   "cell_type": "markdown",
   "metadata": {},
   "source": [
    "### First 4 bytes will have the total image buffer sizes (Encoded as big endian)"
   ]
  },
  {
   "cell_type": "code",
   "execution_count": null,
   "metadata": {
    "collapsed": false
   },
   "outputs": [],
   "source": [
    "# Get 4 bytes from socket\n",
    "sizeInfoBA = s.recv(4)\n",
    "# Convert bytearray(4 bytes) into int32\n",
    "sizeInfo = int.from_bytes(sizeInfoBA, \n",
    "                          byteorder='big', signed=False)\n",
    "print(\"Byte array with size: %s, Decoded size: %d\" \n",
    "      % (sizeInfoBA,sizeInfo))"
   ]
  },
  {
   "cell_type": "markdown",
   "metadata": {},
   "source": [
    "### Get Image buffer"
   ]
  },
  {
   "cell_type": "code",
   "execution_count": null,
   "metadata": {
    "collapsed": false
   },
   "outputs": [],
   "source": [
    "recBytes = 0\n",
    "dataImage = bytearray()\n",
    "while True:\n",
    "    # Get some chunk of data\n",
    "    data = s.recv(BUFFER_SIZE)\n",
    "    # Append bytearray with received data\n",
    "    dataImage += data\n",
    "    # Stop when received at least sizeInfo bytes\n",
    "    recBytes += BUFFER_SIZE\n",
    "    if recBytes > sizeInfo:\n",
    "        break"
   ]
  },
  {
   "cell_type": "markdown",
   "metadata": {},
   "source": [
    "### Display received image (Encoded as PNG)"
   ]
  },
  {
   "cell_type": "code",
   "execution_count": null,
   "metadata": {
    "collapsed": false
   },
   "outputs": [],
   "source": [
    "# Convert received byte array to PIL image\n",
    "img = Image.open(io.BytesIO(dataImage))\n",
    "imshow(img)"
   ]
  },
  {
   "cell_type": "markdown",
   "metadata": {},
   "source": [
    "### Ask for some information from the game"
   ]
  },
  {
   "cell_type": "code",
   "execution_count": null,
   "metadata": {
    "collapsed": false
   },
   "outputs": [],
   "source": [
    "# Send server command to ask for a image\n",
    "s.send(\"telemetria\".encode())\n",
    "# Get 4 bytes from socket\n",
    "sizeInfoBA = s.recv(4)\n",
    "# Convert bytearray(4 bytes) into int32\n",
    "sizeInfo = int.from_bytes(sizeInfoBA, \n",
    "                          byteorder='big', signed=False)\n",
    "print(\"Byte array with size: %s, Decoded size: %d\" \n",
    "      % (sizeInfoBA,sizeInfo))\n",
    "\n",
    "# Get message text\n",
    "telemetry_msg = str(s.recv(sizeInfo))\n",
    "print(telemetry_msg)"
   ]
  }
 ],
 "metadata": {
  "anaconda-cloud": {},
  "kernelspec": {
   "display_name": "Python [conda root]",
   "language": "python",
   "name": "conda-root-py"
  },
  "language_info": {
   "codemirror_mode": {
    "name": "ipython",
    "version": 3
   },
   "file_extension": ".py",
   "mimetype": "text/x-python",
   "name": "python",
   "nbconvert_exporter": "python",
   "pygments_lexer": "ipython3",
   "version": "3.5.2"
  }
 },
 "nbformat": 4,
 "nbformat_minor": 1
}
