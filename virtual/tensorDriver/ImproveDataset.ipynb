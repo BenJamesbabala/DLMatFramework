{
 "cells": [
  {
   "cell_type": "markdown",
   "metadata": {},
   "source": [
    "## Improving Dataset\n",
    "References\n",
    "* https://github.com/aleju/imgaug\n",
    "* http://blog.yhat.com/posts/image-processing-with-scikit-image.html\n",
    "* http://scikit-image.org/docs/dev/user_guide/transforming_image_data.html\n",
    "* https://bradmontgomery.net/blog/pythons-zip-map-and-lambda/\n",
    "* http://stackoverflow.com/questions/3204245/how-do-i-convert-a-tuple-of-tuples-to-a-one-dimensional-list-using-list-comprehe\n",
    "* https://github.com/sahiljuneja/Udacity-SDCND-Term-1/tree/master/P3-Behavioral-Cloning\n",
    "* https://github.com/CYHSM/carnd\n",
    "* https://github.com/udacity/self-driving-car\n",
    "* https://github.com/udacity/self-driving-car/tree/master/steering-models/community-models/rambo\n",
    "* http://stackoverflow.com/questions/40062770/adding-data-to-existing-h5py-file-along-new-axis-using-h5py"
   ]
  },
  {
   "cell_type": "code",
   "execution_count": 1,
   "metadata": {
    "collapsed": false
   },
   "outputs": [],
   "source": [
    "import numpy as np\n",
    "from driving_data import HandleData\n",
    "import matplotlib.pyplot as plt\n",
    "import os\n",
    "import subprocess\n",
    "import glob\n",
    "import h5py\n",
    "from augment_batch import AugmentDrivingBatch\n",
    "\n",
    "import skimage\n",
    "import skimage.filters\n",
    "import skimage.color"
   ]
  },
  {
   "cell_type": "code",
   "execution_count": 2,
   "metadata": {
    "collapsed": false
   },
   "outputs": [
    {
     "name": "stdout",
     "output_type": "stream",
     "text": [
      "Loading training data\n",
      "Number training images: 752\n",
      "Number validation images: 188\n"
     ]
    }
   ],
   "source": [
    "# Load hdf5 file and get the whole training (batch=-1)\n",
    "data = HandleData(path='TestData.h5',shuffle = False)\n",
    "#data = HandleData(shuffle = False)\n",
    "xs, ys = data.LoadTrainBatch(-1,crop_up=190)\n",
    "ys = np.array(ys)\n",
    "\n",
    "# Create instance of AugmentDrivingBatch\n",
    "augment = AugmentDrivingBatch()"
   ]
  },
  {
   "cell_type": "markdown",
   "metadata": {},
   "source": [
    "### Get histogram of inputs\n",
    "Observe from the histogram that almost all the actions are angle=0 on the steering wheel, the problem is that if we backpropagate this the network will find fine output always angle=0"
   ]
  },
  {
   "cell_type": "code",
   "execution_count": null,
   "metadata": {
    "collapsed": false
   },
   "outputs": [],
   "source": [
    "plt.hist(ys,bins='auto')\n",
    "plt.title(\"Histogram of steering angles\")\n",
    "plt.show()"
   ]
  },
  {
   "cell_type": "markdown",
   "metadata": {},
   "source": [
    "### Select images from dataset where steering angle is 0,Left,Right"
   ]
  },
  {
   "cell_type": "code",
   "execution_count": null,
   "metadata": {
    "collapsed": false
   },
   "outputs": [],
   "source": [
    "# Create a list with images and angles\n",
    "list_img_angles = list(zip(xs, ys))\n",
    "\n",
    "# Select the items of the zip list where the angle is 0, left or right\n",
    "list_img_angles_zeros = [(img,steering) for (img,steering) in list_img_angles if steering == 0]\n",
    "list_img_angles_left = [(img,steering) for (img,steering) in list_img_angles if steering < 0]\n",
    "list_img_angles_right = [(img,steering) for (img,steering) in list_img_angles if steering > 0]\n",
    "\n",
    "# Display quantity\n",
    "print('Number (angles==0)=%d'% len(list_img_angles_zeros))\n",
    "print('Number (angles==Left)=%d'% len(list_img_angles_left))\n",
    "print('Number (angles==Right)=%d'% len(list_img_angles_right))"
   ]
  },
  {
   "cell_type": "code",
   "execution_count": null,
   "metadata": {
    "collapsed": false
   },
   "outputs": [],
   "source": [
    "# Angle 0 example\n",
    "[img,steering] = list_img_angles_zeros[0]\n",
    "plt.imshow(img)\n",
    "plt.title('Angle=' + str(steering))\n",
    "plt.show()\n",
    "\n",
    "# Angle (left) example\n",
    "[img,steering] = list_img_angles_left[0]\n",
    "plt.imshow(img)\n",
    "plt.title('Angle(left)=' + str(steering))\n",
    "plt.show()\n",
    "\n",
    "# Angle (right) example\n",
    "[img,steering] = list_img_angles_right[10]\n",
    "plt.imshow(img)\n",
    "plt.title('Angle(right)=' + str(steering))\n",
    "plt.show()"
   ]
  },
  {
   "cell_type": "markdown",
   "metadata": {},
   "source": [
    "## Define function to generate videos from matplotlib (depends on ffmpeg)"
   ]
  },
  {
   "cell_type": "code",
   "execution_count": null,
   "metadata": {
    "collapsed": false
   },
   "outputs": [],
   "source": [
    "def generate_video(list_img_angle):\n",
    "    folder = os.getcwd()\n",
    "    \n",
    "    # Create folder if does not exist\n",
    "    if not os.path.exists(folder + '/imgsVideo'):\n",
    "        os.makedirs(folder + '/imgsVideo')\n",
    "    \n",
    "    cntFile = 0\n",
    "    for img,angle in list_img_angle:\n",
    "        plt.imshow(img)\n",
    "        plt.title('Angle=' + str(angle))\n",
    "        plt.savefig(folder + \"/imgsVideo/file%02d.png\" % cntFile)\n",
    "        cntFile += 1\n",
    "\n",
    "    os.chdir(folder + '/imgsVideo')\n",
    "    subprocess.call([\n",
    "        'ffmpeg', '-framerate', '8', '-i', 'file%02d.png', '-r', '30', '-pix_fmt', 'yuv420p',\n",
    "        'video_name.mp4'\n",
    "    ])\n",
    "    \n",
    "    # Delete \n",
    "    for file_name in glob.glob(\"*.png\"):\n",
    "        os.remove(file_name)\n",
    "    \n",
    "    # Go back to previous directory\n",
    "    os.chdir(folder)\n",
    "\n",
    "# Generate videos for angle=0    \n",
    "generate_video(list_img_angles_zeros)    "
   ]
  },
  {
   "cell_type": "markdown",
   "metadata": {},
   "source": [
    "### Augmentation 1 (Flip left-right and inverse angle)"
   ]
  },
  {
   "cell_type": "code",
   "execution_count": null,
   "metadata": {
    "collapsed": false
   },
   "outputs": [],
   "source": [
    "[img,steering] = list_img_angles_right[10]\n",
    "plt.imshow(np.fliplr(img))\n",
    "plt.title('Angle(left)=' + str(-steering))\n",
    "plt.show()"
   ]
  },
  {
   "cell_type": "markdown",
   "metadata": {},
   "source": [
    "### Augmentation 2 (Invert color)"
   ]
  },
  {
   "cell_type": "code",
   "execution_count": null,
   "metadata": {
    "collapsed": false
   },
   "outputs": [],
   "source": [
    "[img,steering] = list_img_angles_right[10]\n",
    "plt.imshow(skimage.util.invert(img))\n",
    "plt.title('Angle(right)=' + str(steering))\n",
    "plt.show()"
   ]
  },
  {
   "cell_type": "markdown",
   "metadata": {},
   "source": [
    "### Augmentation 3 (Add random noise)"
   ]
  },
  {
   "cell_type": "code",
   "execution_count": null,
   "metadata": {
    "collapsed": false
   },
   "outputs": [],
   "source": [
    "[img,steering] = list_img_angles_right[10]\n",
    "plt.imshow(skimage.util.random_noise(img,var=0.001))\n",
    "plt.title('Angle(right)=' + str(steering))\n",
    "plt.show()"
   ]
  },
  {
   "cell_type": "markdown",
   "metadata": {},
   "source": [
    "### Augmentation 4 (Add Gaussian blur)"
   ]
  },
  {
   "cell_type": "code",
   "execution_count": null,
   "metadata": {
    "collapsed": false
   },
   "outputs": [],
   "source": [
    "[img,steering] = list_img_angles_right[10]\n",
    "plt.imshow(skimage.filters.gaussian(img,sigma=0.9, multichannel=True))\n",
    "plt.title('Angle(right)=' + str(steering))\n",
    "plt.show()"
   ]
  },
  {
   "cell_type": "markdown",
   "metadata": {},
   "source": [
    "### Augmentation 5 (Convert to grayscale)"
   ]
  },
  {
   "cell_type": "code",
   "execution_count": null,
   "metadata": {
    "collapsed": false
   },
   "outputs": [],
   "source": [
    "[img,steering] = list_img_angles_right[10]\n",
    "r, g, b = img[:,:,0], img[:,:,1], img[:,:,2]\n",
    "gray = 0.2989 * r + 0.5870 * g + 0.1140 * b\n",
    "# To keep same number of channels add gray to each one.\n",
    "img[:,:,0] = gray\n",
    "img[:,:,1] = gray\n",
    "img[:,:,2] = gray\n",
    "plt.imshow(img)\n",
    "plt.title('Angle(right)=' + str(steering))\n",
    "plt.show()"
   ]
  },
  {
   "cell_type": "markdown",
   "metadata": {},
   "source": [
    "## Balance dataset"
   ]
  },
  {
   "cell_type": "code",
   "execution_count": null,
   "metadata": {
    "collapsed": false
   },
   "outputs": [],
   "source": [
    "# Shuffle data\n",
    "data.shuffleData()\n",
    "\n",
    "# Get zeros list\n",
    "list_img_angles_zeros = [(img,steering) for (img,steering) in list_img_angles if steering == 0]\n",
    "size_zeros = len(list_img_angles_zeros)\n",
    "\n",
    "# Get list and number of samples that are not 0\n",
    "list_img_angles_not_zeros = [(img,steering) for (img,steering) in list_img_angles if steering != 0]\n",
    "size_not_zeros = len(list_img_angles_not_zeros)\n",
    "print(\"Size not zeros: %d\" % size_not_zeros)\n",
    "print(\"Size zeros: %d\" % size_zeros)"
   ]
  },
  {
   "cell_type": "code",
   "execution_count": null,
   "metadata": {
    "collapsed": false
   },
   "outputs": [],
   "source": [
    "list_img_angles_balanced = list_img_angles_not_zeros\n",
    "print(len(list_img_angles_balanced))\n",
    "sub_zero = list_img_angles_zeros[0:150]\n",
    "print(len(sub_zero))\n",
    "list_img_angles_balanced.extend(sub_zero)\n",
    "print(len(list_img_angles_balanced))"
   ]
  },
  {
   "cell_type": "code",
   "execution_count": null,
   "metadata": {
    "collapsed": false
   },
   "outputs": [],
   "source": [
    "ys_balanced = []\n",
    "for (tup_element) in list_img_angles_balanced:\n",
    "    _,steer = tup_element\n",
    "    ys_balanced.append(steer)\n",
    "\n",
    "\n",
    "#ys_balanced = [(_,steer) for (tup_element) in list_img_angles_balanced]\n",
    "print(type(ys_balanced))\n",
    "\n",
    "plt.hist(np.array(ys_balanced),bins='auto')\n",
    "plt.title(\"Histogram of steering angles\")\n",
    "plt.show()"
   ]
  },
  {
   "cell_type": "markdown",
   "metadata": {},
   "source": [
    "### Save Balanced dataset to hdf5"
   ]
  },
  {
   "cell_type": "code",
   "execution_count": null,
   "metadata": {
    "collapsed": false
   },
   "outputs": [],
   "source": [
    "data.save_hdf5(list_img_angles_balanced)"
   ]
  },
  {
   "cell_type": "markdown",
   "metadata": {},
   "source": [
    "## Test Augmentation"
   ]
  },
  {
   "cell_type": "code",
   "execution_count": 3,
   "metadata": {
    "collapsed": false
   },
   "outputs": [
    {
     "name": "stdout",
     "output_type": "stream",
     "text": [
      "<class 'list'>\n",
      "<class 'tuple'>\n",
      "<class 'list'>\n",
      "<class 'tuple'>\n",
      "Fuck\n",
      "<class 'list'>\n"
     ]
    },
    {
     "ename": "TypeError",
     "evalue": "bad operand type for unary -: 'list'",
     "output_type": "error",
     "traceback": [
      "\u001b[0;31m---------------------------------------------------------------------------\u001b[0m",
      "\u001b[0;31mTypeError\u001b[0m                                 Traceback (most recent call last)",
      "\u001b[0;32m<ipython-input-3-2a82c3e3dbdc>\u001b[0m in \u001b[0;36m<module>\u001b[0;34m()\u001b[0m\n\u001b[1;32m      3\u001b[0m \u001b[0mprint\u001b[0m\u001b[0;34m(\u001b[0m\u001b[0mtype\u001b[0m\u001b[0;34m(\u001b[0m\u001b[0mbatch\u001b[0m\u001b[0;34m)\u001b[0m\u001b[0;34m)\u001b[0m\u001b[0;34m\u001b[0m\u001b[0m\n\u001b[1;32m      4\u001b[0m \u001b[0mprint\u001b[0m\u001b[0;34m(\u001b[0m\u001b[0mtype\u001b[0m\u001b[0;34m(\u001b[0m\u001b[0mbatch\u001b[0m\u001b[0;34m[\u001b[0m\u001b[0;36m0\u001b[0m\u001b[0;34m]\u001b[0m\u001b[0;34m)\u001b[0m\u001b[0;34m)\u001b[0m\u001b[0;34m\u001b[0m\u001b[0m\n\u001b[0;32m----> 5\u001b[0;31m \u001b[0mbatch\u001b[0m \u001b[0;34m=\u001b[0m \u001b[0maugment\u001b[0m\u001b[0;34m.\u001b[0m\u001b[0maugment\u001b[0m\u001b[0;34m(\u001b[0m\u001b[0mbatch\u001b[0m\u001b[0;34m)\u001b[0m\u001b[0;34m\u001b[0m\u001b[0m\n\u001b[0m\u001b[1;32m      6\u001b[0m \u001b[0mprint\u001b[0m\u001b[0;34m(\u001b[0m\u001b[0mtype\u001b[0m\u001b[0;34m(\u001b[0m\u001b[0mbatch\u001b[0m\u001b[0;34m)\u001b[0m\u001b[0;34m)\u001b[0m\u001b[0;34m\u001b[0m\u001b[0m\n\u001b[1;32m      7\u001b[0m \u001b[0mprint\u001b[0m\u001b[0;34m(\u001b[0m\u001b[0mtype\u001b[0m\u001b[0;34m(\u001b[0m\u001b[0mbatch\u001b[0m\u001b[0;34m[\u001b[0m\u001b[0;36m0\u001b[0m\u001b[0;34m]\u001b[0m\u001b[0;34m)\u001b[0m\u001b[0;34m)\u001b[0m\u001b[0;34m\u001b[0m\u001b[0m\n",
      "\u001b[0;32m/home/leoara01/work/DLMatFramework/virtual/tensorDriver/augment_batch.py\u001b[0m in \u001b[0;36maugment\u001b[0;34m(self, batch)\u001b[0m\n\u001b[1;32m     31\u001b[0m             \u001b[0mprint\u001b[0m\u001b[0;34m(\u001b[0m\u001b[0mtype\u001b[0m\u001b[0;34m(\u001b[0m\u001b[0mbatch\u001b[0m\u001b[0;34m)\u001b[0m\u001b[0;34m)\u001b[0m\u001b[0;34m\u001b[0m\u001b[0m\n\u001b[1;32m     32\u001b[0m             \u001b[0mprint\u001b[0m\u001b[0;34m(\u001b[0m\u001b[0mtype\u001b[0m\u001b[0;34m(\u001b[0m\u001b[0mbatch\u001b[0m\u001b[0;34m[\u001b[0m\u001b[0;36m0\u001b[0m\u001b[0;34m]\u001b[0m\u001b[0;34m)\u001b[0m\u001b[0;34m)\u001b[0m\u001b[0;34m\u001b[0m\u001b[0m\n\u001b[0;32m---> 33\u001b[0;31m             \u001b[0mbatch_fliped\u001b[0m \u001b[0;34m=\u001b[0m \u001b[0mself\u001b[0m\u001b[0;34m.\u001b[0m\u001b[0mcreate_flip_steering\u001b[0m\u001b[0;34m(\u001b[0m\u001b[0mnew_batch\u001b[0m\u001b[0;34m)\u001b[0m\u001b[0;34m\u001b[0m\u001b[0m\n\u001b[0m\u001b[1;32m     34\u001b[0m             \u001b[0;31m#batch_fliped = new_batch\u001b[0m\u001b[0;34m\u001b[0m\u001b[0;34m\u001b[0m\u001b[0m\n\u001b[1;32m     35\u001b[0m \u001b[0;34m\u001b[0m\u001b[0m\n",
      "\u001b[0;32m/home/leoara01/work/DLMatFramework/virtual/tensorDriver/augment_batch.py\u001b[0m in \u001b[0;36mcreate_flip_steering\u001b[0;34m(self, batch)\u001b[0m\n\u001b[1;32m     95\u001b[0m                 \u001b[0mprint\u001b[0m\u001b[0;34m(\u001b[0m\u001b[0;34m'Fuck'\u001b[0m\u001b[0;34m)\u001b[0m\u001b[0;34m\u001b[0m\u001b[0m\n\u001b[1;32m     96\u001b[0m                 \u001b[0mprint\u001b[0m\u001b[0;34m(\u001b[0m\u001b[0mtype\u001b[0m\u001b[0;34m(\u001b[0m\u001b[0msteering\u001b[0m\u001b[0;34m)\u001b[0m\u001b[0;34m)\u001b[0m\u001b[0;34m\u001b[0m\u001b[0m\n\u001b[0;32m---> 97\u001b[0;31m                 \u001b[0msteering\u001b[0m \u001b[0;34m=\u001b[0m \u001b[0;34m-\u001b[0m\u001b[0msteering\u001b[0m\u001b[0;34m\u001b[0m\u001b[0m\n\u001b[0m\u001b[1;32m     98\u001b[0m             \u001b[0mnew_batch\u001b[0m\u001b[0;34m[\u001b[0m\u001b[0midx\u001b[0m\u001b[0;34m]\u001b[0m \u001b[0;34m=\u001b[0m \u001b[0;34m(\u001b[0m\u001b[0mimg\u001b[0m\u001b[0;34m,\u001b[0m \u001b[0msteering\u001b[0m\u001b[0;34m)\u001b[0m\u001b[0;34m\u001b[0m\u001b[0m\n\u001b[1;32m     99\u001b[0m             \u001b[0midx\u001b[0m \u001b[0;34m+=\u001b[0m \u001b[0;36m1\u001b[0m\u001b[0;34m\u001b[0m\u001b[0m\n",
      "\u001b[0;31mTypeError\u001b[0m: bad operand type for unary -: 'list'"
     ]
    }
   ],
   "source": [
    "xs, ys = data.LoadTrainBatch(10,crop_up=190)\n",
    "batch = list(zip(xs,ys))\n",
    "print(type(batch))\n",
    "print(type(batch[0]))\n",
    "batch = augment.augment(batch)\n",
    "print(type(batch))\n",
    "print(type(batch[0]))\n",
    "augment.display_batch(batch)"
   ]
  },
  {
   "cell_type": "code",
   "execution_count": 11,
   "metadata": {
    "collapsed": true
   },
   "outputs": [],
   "source": [
    "xs, ys = data.LoadTrainBatch(10,crop_up=190)\n",
    "#ys = np.array(ys)\n",
    "batch = list(zip(xs,ys))"
   ]
  },
  {
   "cell_type": "code",
   "execution_count": 12,
   "metadata": {
    "collapsed": false
   },
   "outputs": [
    {
     "data": {
      "text/plain": [
       "list"
      ]
     },
     "execution_count": 12,
     "metadata": {},
     "output_type": "execute_result"
    }
   ],
   "source": [
    "type(ys[0])"
   ]
  },
  {
   "cell_type": "code",
   "execution_count": 13,
   "metadata": {
    "collapsed": false
   },
   "outputs": [
    {
     "data": {
      "text/plain": [
       "[0.0]"
      ]
     },
     "execution_count": 13,
     "metadata": {},
     "output_type": "execute_result"
    }
   ],
   "source": [
    "ys[0]"
   ]
  },
  {
   "cell_type": "code",
   "execution_count": null,
   "metadata": {
    "collapsed": true
   },
   "outputs": [],
   "source": []
  }
 ],
 "metadata": {
  "kernelspec": {
   "display_name": "Python 3",
   "language": "python",
   "name": "python3"
  },
  "language_info": {
   "codemirror_mode": {
    "name": "ipython",
    "version": 3
   },
   "file_extension": ".py",
   "mimetype": "text/x-python",
   "name": "python",
   "nbconvert_exporter": "python",
   "pygments_lexer": "ipython3",
   "version": "3.6.0"
  }
 },
 "nbformat": 4,
 "nbformat_minor": 2
}
