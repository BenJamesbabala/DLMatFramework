{
 "cells": [
  {
   "cell_type": "markdown",
   "metadata": {},
   "source": [
    "## Converting hdf5 to lmdb\n",
    "\n",
    "References:\n",
    "\n",
    "* https://symas.com/lightning-memory-mapped-database/\n",
    "* http://deepdish.io/2015/04/28/creating-lmdb-in-python/\n",
    "* https://gist.github.com/bearpaw/3a07f0e8904ed42f376e\n",
    "* http://stackoverflow.com/questions/37337523/how-do-you-load-an-lmdb-file-into-tensorflow\n",
    "* http://research.beenfrog.com/code/2015/12/30/write-read-lmdb-example.html\n",
    "* https://lmdb.readthedocs.io/en/release/\n",
    "* http://stackoverflow.com/questions/8855574/convert-ndarray-from-float64-to-integer\n",
    "* https://docs.scipy.org/doc/numpy-1.10.0/reference/generated/numpy.frombuffer.html\n",
    "* https://docs.scipy.org/doc/numpy/user/basics.types.html\n",
    "\n",
    "Reasons:\n",
    "* LMDB uses memory-mapped files, giving much better I/O performance.\n",
    "* Works with large datasets. The HDF5 files are always read entirely into memory, so you can’t have any HDF5 file exceed your memory capacity.\n",
    "\n",
    "Install: pip install lmdb\n"
   ]
  },
  {
   "cell_type": "code",
   "execution_count": 1,
   "metadata": {
    "collapsed": false
   },
   "outputs": [],
   "source": [
    "import lmdb\n",
    "import h5py\n",
    "import numpy as np\n",
    "import matplotlib.pyplot as plt\n",
    "from driving_data import HandleData\n",
    "import sys\n",
    "\n",
    "LMDB_PATH='DrivingData_Complete'\n",
    "#HDF5_PATH='TestData.h5'\n",
    "HDF5_PATH='DrivingData_Complete.h5'"
   ]
  },
  {
   "cell_type": "code",
   "execution_count": null,
   "metadata": {
    "collapsed": false
   },
   "outputs": [],
   "source": [
    "# Load hdf5 file and get the whole training (batch=-1)\n",
    "#data = HandleData(path='DrivingData_Complete.h5',shuffle = False)\n",
    "data = HandleData(path=HDF5_PATH,shuffle = False)\n",
    "xs, ys = data.get_dataset_set()\n",
    "plt.imshow(xs[0])\n",
    "plt.show()"
   ]
  },
  {
   "cell_type": "code",
   "execution_count": null,
   "metadata": {
    "collapsed": false
   },
   "outputs": [],
   "source": [
    "# get size in bytes of lists\n",
    "size_bytes_images = xs[0].nbytes * len(xs)\n",
    "size_bytes_labels = sys.getsizeof(ys)\n",
    "total_size = size_bytes_images + size_bytes_labels\n",
    "print('Total size(bytes): %d' % (size_bytes_images+size_bytes_labels))\n",
    "print('Number of elements:', len(ys))\n",
    "print('Type of images: ', type(xs[0]), 'of', xs[0].dtype)\n",
    "print('Type of labels: ', type(ys[0]), 'of', ys[0].dtype)\n",
    "\n",
    "# Convert shape tupple into string separated with '_\n",
    "shape_img = xs[0].shape\n",
    "shape_str = '_'.join([str(dim) for dim in shape_img])\n",
    "print('Image shape',xs[0].shape)\n",
    "print('Image size in bytes',xs[0].nbytes)"
   ]
  },
  {
   "cell_type": "code",
   "execution_count": null,
   "metadata": {
    "collapsed": false
   },
   "outputs": [],
   "source": [
    "# Open LMDB file\n",
    "# You can append more information up to the total size.\n",
    "env = lmdb.open(LMDB_PATH, map_size=total_size*3)"
   ]
  },
  {
   "cell_type": "code",
   "execution_count": null,
   "metadata": {
    "collapsed": false
   },
   "outputs": [],
   "source": [
    "# Get a write lmdb transaction, lmdb store stuff with a key,value(in bytes) format\n",
    "with env.begin(write=True) as txn:\n",
    "    # Iterate on batch\n",
    "    idx = 0\n",
    "    for (tup_element) in list(zip(xs, ys)):\n",
    "        img,steer = tup_element        \n",
    "        str_id = 'label_{:08}'.format(idx)   \n",
    "        # Encode shape information on key\n",
    "        img_id = ('img_{:08}_' + shape_str).format(idx)           \n",
    "        # The current type of steer is np.float32 and img ndarray of float32\n",
    "        txn.put(bytes(str_id.encode('ascii')),steer.tobytes())                \n",
    "        txn.put(bytes(img_id.encode('ascii')),img.tobytes())                \n",
    "        #print('Label size:', len(steer.tobytes()))\n",
    "        #print('Image size:', len(img.tobytes()))\n",
    "        idx += 1"
   ]
  },
  {
   "cell_type": "markdown",
   "metadata": {},
   "source": [
    "### Reading from lmdb"
   ]
  },
  {
   "cell_type": "code",
   "execution_count": null,
   "metadata": {
    "collapsed": false
   },
   "outputs": [],
   "source": [
    "lst_labels = []\n",
    "lst_imgs = []\n",
    "env = lmdb.open(LMDB_PATH, readonly=True)\n",
    "with env.begin() as txn:\n",
    "    cursor = txn.cursor()\n",
    "    for key, value in cursor:        \n",
    "        #print(key, np.frombuffer(value, dtype=np.float32))\n",
    "        #print(key, value)\n",
    "        key_str = key.decode('ascii')\n",
    "        #print(key_str)\n",
    "        if 'label' in key_str:\n",
    "            #print('Label size:', len(value))            \n",
    "            lst_labels.append(np.float32(np.asscalar(np.frombuffer(value, dtype=np.float32, count=1))))\n",
    "        else:\n",
    "            # Must be images            \n",
    "            #print('Image size:', len(value))\n",
    "            # Get shape information from key name\n",
    "            info_key = key_str.split('_')\n",
    "            # Get image shape [2:None] means from index 2 to the end\n",
    "            shape_img = tuple(map(lambda x:int(x) ,info_key[2:None]))            \n",
    "            lst_imgs.append(np.frombuffer(value, dtype=np.float32).reshape(shape_img))            "
   ]
  },
  {
   "cell_type": "code",
   "execution_count": null,
   "metadata": {
    "collapsed": false
   },
   "outputs": [],
   "source": [
    "print('Number of labels on lmdb:',len(lst_labels), 'are equal:', lst_labels == ys)\n",
    "print('Number of images on lmdb:',len(lst_imgs), 'are equal:', np.array_equal(xs,lst_imgs))\n",
    "plt.imshow(xs[0])\n",
    "plt.show()\n",
    "plt.imshow(lst_imgs[0])\n",
    "plt.show()"
   ]
  }
 ],
 "metadata": {
  "kernelspec": {
   "display_name": "Python 3",
   "language": "python",
   "name": "python3"
  },
  "language_info": {
   "codemirror_mode": {
    "name": "ipython",
    "version": 3
   },
   "file_extension": ".py",
   "mimetype": "text/x-python",
   "name": "python",
   "nbconvert_exporter": "python",
   "pygments_lexer": "ipython3",
   "version": "3.6.0"
  }
 },
 "nbformat": 4,
 "nbformat_minor": 2
}
